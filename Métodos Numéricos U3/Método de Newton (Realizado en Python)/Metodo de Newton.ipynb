{
 "cells": [
  {
   "cell_type": "code",
   "execution_count": 62,
   "metadata": {},
   "outputs": [],
   "source": [
    "# ->> METODO DE NEWTON RAPHSON PARA SISTEMAS DE ECUACIONES NO LINEALES\n",
    "# ->> EQUIPO:\n",
    "# ->> MARCO ANTONIO TUZ PECH\n",
    "# ->> RODRIGO ÁNGEL POOT POOT\n",
    "# ->> JOSÉ MAURICIO CANUL CHUC\n",
    "# ->> EL CÓDIGO ELABORADO EN PYTHON ES FUNCIONAL, CON EL SE RESOLVIERON EJERCICIOS PROPUESTOS DE LA BITACORA\n",
    "#     SOLO SE NECESITA CAMBIAR LOS VALORES DEL SISTEMA ASI COMO DEL JACOBIANO\n",
    "\n",
    "import numpy as np\n",
    "from sympy import*\n",
    "from sympy.interactive import printing;\n",
    "printing.init_printing(use_latex=true);\n",
    "from IPython.display import display, Latex\n",
    "\n",
    "def Newton_algoritmo(F, J, x, eps):\n",
    "    \n",
    "    F_value = F(x)\n",
    "    F_norm = np.linalg.norm(F_value, ord=2)\n",
    "    contador_iteraciones = 0\n",
    "    while abs(F_norm) > eps and   contador_iteraciones < 100:\n",
    "        delta = np.linalg.solve(J(x), -F_value)\n",
    "        x = x + delta\n",
    "        display(Latex('$ Iteración:' + latex(simplify(contador_iteraciones)) + '|''$$ SolucióndelSistema = '+ latex(simplify(x)) + '$'))\n",
    "        F_value = F(x)\n",
    "        F_norm = np.linalg.norm(F_value, ord=2)\n",
    "        contador_iteraciones += 1\n",
    "\n",
    "    # Hasta que una solucion es encontrada o muchas iteraciones\n",
    "    if abs(F_norm) > eps:\n",
    "        contador_iteraciones = -1\n",
    "    return x, contador_iteraciones\n",
    "\n",
    "def SistemaNoLineal():\n",
    "\n",
    "    def F(x):\n",
    "        eq1 = x[0]**2 + x[1] - 37\n",
    "        eq2 = x[0] - x[1]**2 -5\n",
    "        eq3 = x[0] + x[1] + x[2] - 3\n",
    "        return np.array(\n",
    "            [eq1,eq2,eq3])\n",
    "\n",
    "    def J(x):\n",
    "       \n",
    "        return np.array([[2*x[0], 1, 0],\n",
    "                         [1, -2*x[1], 0],\n",
    "                         [1, 1, 1]])\n",
    "\n",
    "    tol = 1e-20\n",
    "    x, n =  Newton_algoritmo(F, J, x=np.array([0,0,0]), eps=1e-10)\n",
    "    \n",
    "SistemaNoLineal()"
   ]
  },
  {
   "cell_type": "code",
   "execution_count": null,
   "metadata": {},
   "outputs": [],
   "source": []
  }
 ],
 "metadata": {
  "kernelspec": {
   "display_name": "Python 3",
   "language": "python",
   "name": "python3"
  },
  "language_info": {
   "codemirror_mode": {
    "name": "ipython",
    "version": 3
   },
   "file_extension": ".py",
   "mimetype": "text/x-python",
   "name": "python",
   "nbconvert_exporter": "python",
   "pygments_lexer": "ipython3",
   "version": "3.8.5"
  }
 },
 "nbformat": 4,
 "nbformat_minor": 4
}
