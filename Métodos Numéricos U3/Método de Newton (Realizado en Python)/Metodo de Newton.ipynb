{
 "cells": [
  {
   "cell_type": "code",
   "execution_count": 61,
   "metadata": {},
   "outputs": [
    {
     "data": {
      "text/latex": [
       "$ Iteración:0|$$ SolucióndelSistema = \\left[\\begin{matrix}5.0 & 37.0 & -39.0\\end{matrix}\\right]$"
      ],
      "text/plain": [
       "<IPython.core.display.Latex object>"
      ]
     },
     "metadata": {},
     "output_type": "display_data"
    },
    {
     "data": {
      "text/latex": [
       "$ Iteración:1|$$ SolucióndelSistema = \\left[\\begin{matrix}4.35087719298246 & 18.4912280701754 & -19.8421052631579\\end{matrix}\\right]$"
      ],
      "text/plain": [
       "<IPython.core.display.Latex object>"
      ]
     },
     "metadata": {},
     "output_type": "display_data"
    },
    {
     "data": {
      "text/latex": [
       "$ Iteración:2|$$ SolucióndelSistema = \\left[\\begin{matrix}5.36382417757925 & 9.25545178561999 & -11.6192759631992\\end{matrix}\\right]$"
      ],
      "text/plain": [
       "<IPython.core.display.Latex object>"
      ]
     },
     "metadata": {},
     "output_type": "display_data"
    },
    {
     "data": {
      "text/latex": [
       "$ Iteración:3|$$ SolucióndelSistema = \\left[\\begin{matrix}5.69605559648847 & 4.66532835742279 & -7.36138395391126\\end{matrix}\\right]$"
      ],
      "text/plain": [
       "<IPython.core.display.Latex object>"
      ]
     },
     "metadata": {},
     "output_type": "display_data"
    },
    {
     "data": {
      "text/latex": [
       "$ Iteración:4|$$ SolucióndelSistema = \\left[\\begin{matrix}5.8828226628113 & 2.42727945497664 & -5.31010211778794\\end{matrix}\\right]$"
      ],
      "text/plain": [
       "<IPython.core.display.Latex object>"
      ]
     },
     "metadata": {},
     "output_type": "display_data"
    },
    {
     "data": {
      "text/latex": [
       "$ Iteración:5|$$ SolucióndelSistema = \\left[\\begin{matrix}5.96609476810914 & 1.41264746146151 & -4.37874222957064\\end{matrix}\\right]$"
      ],
      "text/plain": [
       "<IPython.core.display.Latex object>"
      ]
     },
     "metadata": {},
     "output_type": "display_data"
    },
    {
     "data": {
      "text/latex": [
       "$ Iteración:6|$$ SolucióndelSistema = \\left[\\begin{matrix}5.99518811111823 & 1.05856593491403 & -4.05375404603227\\end{matrix}\\right]$"
      ],
      "text/plain": [
       "<IPython.core.display.Latex object>"
      ]
     },
     "metadata": {},
     "output_type": "display_data"
    },
    {
     "data": {
      "text/latex": [
       "$ Iteración:7|$$ SolucióndelSistema = \\left[\\begin{matrix}5.99987186198696 & 1.00155957725939 & -4.00143143924634\\end{matrix}\\right]$"
      ],
      "text/plain": [
       "<IPython.core.display.Latex object>"
      ]
     },
     "metadata": {},
     "output_type": "display_data"
    },
    {
     "data": {
      "text/latex": [
       "$ Iteración:8|$$ SolucióndelSistema = \\left[\\begin{matrix}5.99999990416586 & 1.00000116640445 & -4.00000107057031\\end{matrix}\\right]$"
      ],
      "text/plain": [
       "<IPython.core.display.Latex object>"
      ]
     },
     "metadata": {},
     "output_type": "display_data"
    },
    {
     "data": {
      "text/latex": [
       "$ Iteración:9|$$ SolucióndelSistema = \\left[\\begin{matrix}5.99999999999995 & 1.00000000000065 & -4.0000000000006\\end{matrix}\\right]$"
      ],
      "text/plain": [
       "<IPython.core.display.Latex object>"
      ]
     },
     "metadata": {},
     "output_type": "display_data"
    }
   ],
   "source": [
    "# ->> METODO DE NEWTON RAPHSON PARA SISTEMAS DE ECUACIONES NO LINEALES\n",
    "# ->> EQUIPO:\n",
    "# ->> MARCO ANTONIO TUZ PECH\n",
    "# ->> RODRIGO ÁNGEL POOT POOT\n",
    "# ->> JOSÉ MAURICIO CANUL CHUC\n",
    "# ->> EL CÓDIGO ELABORADO EN PYTHON ES FUNCIONAL, CON EL SE RESOLVIERON EJERCICIOS PROPUESTOS DE LA BITACORA\n",
    "#     SOLO SE NECESITA CAMBIAR LOS VALORES DEL SISTEMA ASI COMO DEL JACOBIANO\n",
    "\n",
    "import numpy as np\n",
    "from sympy import*\n",
    "from sympy.interactive import printing;\n",
    "printing.init_printing(use_latex=true);\n",
    "from IPython.display import display, Latex\n",
    "\n",
    "def Newton_algoritmo(F, J, x, eps):\n",
    "    \n",
    "    F_value = F(x)\n",
    "    F_norm = np.linalg.norm(F_value, ord=2)\n",
    "    contador_iteraciones = 0\n",
    "    while abs(F_norm) > eps and   contador_iteraciones < 100:\n",
    "        delta = np.linalg.solve(J(x), -F_value)\n",
    "        x = x + delta\n",
    "        display(Latex('$ Iteración:' + latex(simplify(contador_iteraciones)) + '|''$$ SolucióndelSistema = '+ latex(simplify(x)) + '$'))\n",
    "        F_value = F(x)\n",
    "        F_norm = np.linalg.norm(F_value, ord=2)\n",
    "        contador_iteraciones += 1\n",
    "\n",
    "    # Hasta que una solucion es encontrada o muchas iteraciones\n",
    "    if abs(F_norm) > eps:\n",
    "        contador_iteraciones = -1\n",
    "    return x, contador_iteraciones\n",
    "\n",
    "def SistemaNoLineal():\n",
    "\n",
    "    def F(x):\n",
    "        eq1 = x[0]**2 + x[1] - 37\n",
    "        eq2 = x[0] - x[1]**2 -5\n",
    "        eq3 = x[0] + x[1] + x[2] - 3\n",
    "        return np.array(\n",
    "            [eq1,eq2,eq3])\n",
    "\n",
    "    def J(x):\n",
    "       \n",
    "        return np.array([[2*x[0], 1, 0],\n",
    "                         [1, -2*x[1], 0],\n",
    "                         [1, 1, 1]])\n",
    "\n",
    "    tol = 1e-20\n",
    "    x, n =  Newton_algoritmo(F, J, x=np.array([0,0,0]), eps=1e-10)\n",
    "    \n",
    "SistemaNoLineal()"
   ]
  },
  {
   "cell_type": "code",
   "execution_count": null,
   "metadata": {},
   "outputs": [],
   "source": []
  },
  {
   "cell_type": "code",
   "execution_count": null,
   "metadata": {},
   "outputs": [],
   "source": []
  },
  {
   "cell_type": "code",
   "execution_count": null,
   "metadata": {},
   "outputs": [],
   "source": []
  },
  {
   "cell_type": "code",
   "execution_count": null,
   "metadata": {},
   "outputs": [],
   "source": []
  }
 ],
 "metadata": {
  "kernelspec": {
   "display_name": "Python 3",
   "language": "python",
   "name": "python3"
  },
  "language_info": {
   "codemirror_mode": {
    "name": "ipython",
    "version": 3
   },
   "file_extension": ".py",
   "mimetype": "text/x-python",
   "name": "python",
   "nbconvert_exporter": "python",
   "pygments_lexer": "ipython3",
   "version": "3.8.5"
  }
 },
 "nbformat": 4,
 "nbformat_minor": 4
}
